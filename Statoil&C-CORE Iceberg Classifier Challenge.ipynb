{
 "cells": [
  {
   "cell_type": "code",
   "execution_count": 120,
   "metadata": {},
   "outputs": [],
   "source": [
    "# This Python 3 environment comes with many helpful analytics libraries installed\n",
    "# It is defined by the kaggle/python docker image: https://github.com/kaggle/docker-python\n",
    "# For example, here's several helpful packages to load in \n",
    "import matplotlib.pyplot as plt\n",
    "import numpy as np\n",
    "import pandas as pd\n",
    "import torch\n",
    "from torch import nn\n",
    "import torch.nn.functional as F\n",
    "from torch.autograd import Variable\n",
    "from torch.optim import Adam\n",
    "from torch.utils.data import TensorDataset, DataLoader\n",
    "from tqdm.notebook import tqdm\n",
    "import seaborn as sns"
   ]
  },
  {
   "cell_type": "code",
   "execution_count": 98,
   "metadata": {},
   "outputs": [],
   "source": [
    "train_dataset = pd.read_json(\"./data/iceberg/train.json/data/processed/train.json\")\n",
    "test_dataset = pd.read_json(\"./data/iceberg/test.json/data/processed/test.json\")\n"
   ]
  },
  {
   "cell_type": "code",
   "execution_count": 99,
   "metadata": {},
   "outputs": [
    {
     "data": {
      "text/html": [
       "<div>\n",
       "<style scoped>\n",
       "    .dataframe tbody tr th:only-of-type {\n",
       "        vertical-align: middle;\n",
       "    }\n",
       "\n",
       "    .dataframe tbody tr th {\n",
       "        vertical-align: top;\n",
       "    }\n",
       "\n",
       "    .dataframe thead th {\n",
       "        text-align: right;\n",
       "    }\n",
       "</style>\n",
       "<table border=\"1\" class=\"dataframe\">\n",
       "  <thead>\n",
       "    <tr style=\"text-align: right;\">\n",
       "      <th></th>\n",
       "      <th>id</th>\n",
       "      <th>band_1</th>\n",
       "      <th>band_2</th>\n",
       "      <th>inc_angle</th>\n",
       "      <th>is_iceberg</th>\n",
       "    </tr>\n",
       "  </thead>\n",
       "  <tbody>\n",
       "    <tr>\n",
       "      <th>0</th>\n",
       "      <td>dfd5f913</td>\n",
       "      <td>[-27.878360999999998, -27.15416, -28.668615, -...</td>\n",
       "      <td>[-27.154118, -29.537888, -31.0306, -32.190483,...</td>\n",
       "      <td>43.9239</td>\n",
       "      <td>0</td>\n",
       "    </tr>\n",
       "    <tr>\n",
       "      <th>1</th>\n",
       "      <td>e25388fd</td>\n",
       "      <td>[-12.242375, -14.920304999999999, -14.920363, ...</td>\n",
       "      <td>[-31.506321, -27.984554, -26.645678, -23.76760...</td>\n",
       "      <td>38.1562</td>\n",
       "      <td>0</td>\n",
       "    </tr>\n",
       "    <tr>\n",
       "      <th>2</th>\n",
       "      <td>58b2aaa0</td>\n",
       "      <td>[-24.603676, -24.603714, -24.871029, -23.15277...</td>\n",
       "      <td>[-24.870956, -24.092632, -20.653963, -19.41104...</td>\n",
       "      <td>45.2859</td>\n",
       "      <td>1</td>\n",
       "    </tr>\n",
       "    <tr>\n",
       "      <th>3</th>\n",
       "      <td>4cfc3a18</td>\n",
       "      <td>[-22.454607, -23.082819, -23.998013, -23.99805...</td>\n",
       "      <td>[-27.889421, -27.519794, -27.165262, -29.10350...</td>\n",
       "      <td>43.8306</td>\n",
       "      <td>0</td>\n",
       "    </tr>\n",
       "    <tr>\n",
       "      <th>4</th>\n",
       "      <td>271f93f4</td>\n",
       "      <td>[-26.006956, -23.164886, -23.164886, -26.89116...</td>\n",
       "      <td>[-27.206915, -30.259186, -30.259186, -23.16495...</td>\n",
       "      <td>35.6256</td>\n",
       "      <td>0</td>\n",
       "    </tr>\n",
       "    <tr>\n",
       "      <th>...</th>\n",
       "      <td>...</td>\n",
       "      <td>...</td>\n",
       "      <td>...</td>\n",
       "      <td>...</td>\n",
       "      <td>...</td>\n",
       "    </tr>\n",
       "    <tr>\n",
       "      <th>1599</th>\n",
       "      <td>04e11240</td>\n",
       "      <td>[-30.999878, -29.976866, -28.233906, -29.50732...</td>\n",
       "      <td>[-27.847719, -28.233864, -24.712077999999998, ...</td>\n",
       "      <td>na</td>\n",
       "      <td>0</td>\n",
       "    </tr>\n",
       "    <tr>\n",
       "      <th>1600</th>\n",
       "      <td>c7d6f6f8</td>\n",
       "      <td>[-25.31155, -26.511555, -28.694487, -27.180115...</td>\n",
       "      <td>[-29.563713, -28.290375, -26.839405, -28.29046...</td>\n",
       "      <td>na</td>\n",
       "      <td>0</td>\n",
       "    </tr>\n",
       "    <tr>\n",
       "      <th>1601</th>\n",
       "      <td>bba1a0f1</td>\n",
       "      <td>[-18.141895, -18.141844, -19.01737, -19.701599...</td>\n",
       "      <td>[-25.305355, -29.387701, -28.963863, -26.16023...</td>\n",
       "      <td>na</td>\n",
       "      <td>0</td>\n",
       "    </tr>\n",
       "    <tr>\n",
       "      <th>1602</th>\n",
       "      <td>7f66bb44</td>\n",
       "      <td>[-22.455633, -25.794661, -26.954567, -22.83354...</td>\n",
       "      <td>[-26.070356, -22.093737, -21.577662, -24.53376...</td>\n",
       "      <td>na</td>\n",
       "      <td>0</td>\n",
       "    </tr>\n",
       "    <tr>\n",
       "      <th>1603</th>\n",
       "      <td>9d8f326c</td>\n",
       "      <td>[-19.909191, -20.678406, -20.208834, -18.42441...</td>\n",
       "      <td>[-24.44487, -24.956001, -27.722103, -26.078417...</td>\n",
       "      <td>na</td>\n",
       "      <td>0</td>\n",
       "    </tr>\n",
       "  </tbody>\n",
       "</table>\n",
       "<p>1604 rows × 5 columns</p>\n",
       "</div>"
      ],
      "text/plain": [
       "            id                                             band_1  \\\n",
       "0     dfd5f913  [-27.878360999999998, -27.15416, -28.668615, -...   \n",
       "1     e25388fd  [-12.242375, -14.920304999999999, -14.920363, ...   \n",
       "2     58b2aaa0  [-24.603676, -24.603714, -24.871029, -23.15277...   \n",
       "3     4cfc3a18  [-22.454607, -23.082819, -23.998013, -23.99805...   \n",
       "4     271f93f4  [-26.006956, -23.164886, -23.164886, -26.89116...   \n",
       "...        ...                                                ...   \n",
       "1599  04e11240  [-30.999878, -29.976866, -28.233906, -29.50732...   \n",
       "1600  c7d6f6f8  [-25.31155, -26.511555, -28.694487, -27.180115...   \n",
       "1601  bba1a0f1  [-18.141895, -18.141844, -19.01737, -19.701599...   \n",
       "1602  7f66bb44  [-22.455633, -25.794661, -26.954567, -22.83354...   \n",
       "1603  9d8f326c  [-19.909191, -20.678406, -20.208834, -18.42441...   \n",
       "\n",
       "                                                 band_2 inc_angle  is_iceberg  \n",
       "0     [-27.154118, -29.537888, -31.0306, -32.190483,...   43.9239           0  \n",
       "1     [-31.506321, -27.984554, -26.645678, -23.76760...   38.1562           0  \n",
       "2     [-24.870956, -24.092632, -20.653963, -19.41104...   45.2859           1  \n",
       "3     [-27.889421, -27.519794, -27.165262, -29.10350...   43.8306           0  \n",
       "4     [-27.206915, -30.259186, -30.259186, -23.16495...   35.6256           0  \n",
       "...                                                 ...       ...         ...  \n",
       "1599  [-27.847719, -28.233864, -24.712077999999998, ...        na           0  \n",
       "1600  [-29.563713, -28.290375, -26.839405, -28.29046...        na           0  \n",
       "1601  [-25.305355, -29.387701, -28.963863, -26.16023...        na           0  \n",
       "1602  [-26.070356, -22.093737, -21.577662, -24.53376...        na           0  \n",
       "1603  [-24.44487, -24.956001, -27.722103, -26.078417...        na           0  \n",
       "\n",
       "[1604 rows x 5 columns]"
      ]
     },
     "execution_count": 99,
     "metadata": {},
     "output_type": "execute_result"
    }
   ],
   "source": [
    "train_dataset"
   ]
  },
  {
   "cell_type": "code",
   "execution_count": 100,
   "metadata": {},
   "outputs": [
    {
     "data": {
      "text/html": [
       "<div>\n",
       "<style scoped>\n",
       "    .dataframe tbody tr th:only-of-type {\n",
       "        vertical-align: middle;\n",
       "    }\n",
       "\n",
       "    .dataframe tbody tr th {\n",
       "        vertical-align: top;\n",
       "    }\n",
       "\n",
       "    .dataframe thead th {\n",
       "        text-align: right;\n",
       "    }\n",
       "</style>\n",
       "<table border=\"1\" class=\"dataframe\">\n",
       "  <thead>\n",
       "    <tr style=\"text-align: right;\">\n",
       "      <th></th>\n",
       "      <th>id</th>\n",
       "      <th>band_1</th>\n",
       "      <th>band_2</th>\n",
       "      <th>inc_angle</th>\n",
       "    </tr>\n",
       "  </thead>\n",
       "  <tbody>\n",
       "    <tr>\n",
       "      <th>0</th>\n",
       "      <td>5941774d</td>\n",
       "      <td>[-15.863251, -15.201077, -17.887735, -19.17248...</td>\n",
       "      <td>[-21.629612, -21.142353, -23.908337, -28.34524...</td>\n",
       "      <td>34.966400</td>\n",
       "    </tr>\n",
       "    <tr>\n",
       "      <th>1</th>\n",
       "      <td>4023181e</td>\n",
       "      <td>[-26.058969497680664, -26.058969497680664, -26...</td>\n",
       "      <td>[-25.754207611083984, -25.754207611083984, -25...</td>\n",
       "      <td>32.615072</td>\n",
       "    </tr>\n",
       "    <tr>\n",
       "      <th>2</th>\n",
       "      <td>b20200e4</td>\n",
       "      <td>[-14.14109992980957, -15.064241409301758, -17....</td>\n",
       "      <td>[-14.74563980102539, -14.590410232543945, -14....</td>\n",
       "      <td>37.505433</td>\n",
       "    </tr>\n",
       "    <tr>\n",
       "      <th>3</th>\n",
       "      <td>e7f018bb</td>\n",
       "      <td>[-12.167478, -13.706167, -16.54837, -13.572674...</td>\n",
       "      <td>[-24.32222, -26.375538, -24.096739, -23.8769, ...</td>\n",
       "      <td>34.473900</td>\n",
       "    </tr>\n",
       "    <tr>\n",
       "      <th>4</th>\n",
       "      <td>4371c8c3</td>\n",
       "      <td>[-23.37459373474121, -26.02718162536621, -28.1...</td>\n",
       "      <td>[-25.72234344482422, -27.011577606201172, -23....</td>\n",
       "      <td>43.918874</td>\n",
       "    </tr>\n",
       "    <tr>\n",
       "      <th>...</th>\n",
       "      <td>...</td>\n",
       "      <td>...</td>\n",
       "      <td>...</td>\n",
       "      <td>...</td>\n",
       "    </tr>\n",
       "    <tr>\n",
       "      <th>8419</th>\n",
       "      <td>16ee9b50</td>\n",
       "      <td>[-25.082357, -26.71583, -24.599827, -25.082571...</td>\n",
       "      <td>[-25.860718, -23.29442, -25.860861, -25.334354...</td>\n",
       "      <td>34.795500</td>\n",
       "    </tr>\n",
       "    <tr>\n",
       "      <th>8420</th>\n",
       "      <td>5a599eb7</td>\n",
       "      <td>[-21.031391143798828, -21.031391143798828, -21...</td>\n",
       "      <td>[-23.755836486816406, -23.755836486816406, -23...</td>\n",
       "      <td>32.246683</td>\n",
       "    </tr>\n",
       "    <tr>\n",
       "      <th>8421</th>\n",
       "      <td>df30d6dd</td>\n",
       "      <td>[-28.609278, -26.514626, -26.514679, -26.83061...</td>\n",
       "      <td>[-28.609278, -29.437183, -30.35239, -31.375494...</td>\n",
       "      <td>39.503200</td>\n",
       "    </tr>\n",
       "    <tr>\n",
       "      <th>8422</th>\n",
       "      <td>18af95b1</td>\n",
       "      <td>[-27.068821, -27.068892, -23.970854, -22.38730...</td>\n",
       "      <td>[-29.991381, -29.163599, -24.886002, -27.71266...</td>\n",
       "      <td>33.638000</td>\n",
       "    </tr>\n",
       "    <tr>\n",
       "      <th>8423</th>\n",
       "      <td>27d788c8</td>\n",
       "      <td>[-25.438865661621094, -25.438865661621094, -25...</td>\n",
       "      <td>[-23.85527801513672, -23.85527801513672, -23.8...</td>\n",
       "      <td>36.758181</td>\n",
       "    </tr>\n",
       "  </tbody>\n",
       "</table>\n",
       "<p>8424 rows × 4 columns</p>\n",
       "</div>"
      ],
      "text/plain": [
       "            id                                             band_1  \\\n",
       "0     5941774d  [-15.863251, -15.201077, -17.887735, -19.17248...   \n",
       "1     4023181e  [-26.058969497680664, -26.058969497680664, -26...   \n",
       "2     b20200e4  [-14.14109992980957, -15.064241409301758, -17....   \n",
       "3     e7f018bb  [-12.167478, -13.706167, -16.54837, -13.572674...   \n",
       "4     4371c8c3  [-23.37459373474121, -26.02718162536621, -28.1...   \n",
       "...        ...                                                ...   \n",
       "8419  16ee9b50  [-25.082357, -26.71583, -24.599827, -25.082571...   \n",
       "8420  5a599eb7  [-21.031391143798828, -21.031391143798828, -21...   \n",
       "8421  df30d6dd  [-28.609278, -26.514626, -26.514679, -26.83061...   \n",
       "8422  18af95b1  [-27.068821, -27.068892, -23.970854, -22.38730...   \n",
       "8423  27d788c8  [-25.438865661621094, -25.438865661621094, -25...   \n",
       "\n",
       "                                                 band_2  inc_angle  \n",
       "0     [-21.629612, -21.142353, -23.908337, -28.34524...  34.966400  \n",
       "1     [-25.754207611083984, -25.754207611083984, -25...  32.615072  \n",
       "2     [-14.74563980102539, -14.590410232543945, -14....  37.505433  \n",
       "3     [-24.32222, -26.375538, -24.096739, -23.8769, ...  34.473900  \n",
       "4     [-25.72234344482422, -27.011577606201172, -23....  43.918874  \n",
       "...                                                 ...        ...  \n",
       "8419  [-25.860718, -23.29442, -25.860861, -25.334354...  34.795500  \n",
       "8420  [-23.755836486816406, -23.755836486816406, -23...  32.246683  \n",
       "8421  [-28.609278, -29.437183, -30.35239, -31.375494...  39.503200  \n",
       "8422  [-29.991381, -29.163599, -24.886002, -27.71266...  33.638000  \n",
       "8423  [-23.85527801513672, -23.85527801513672, -23.8...  36.758181  \n",
       "\n",
       "[8424 rows x 4 columns]"
      ]
     },
     "execution_count": 100,
     "metadata": {},
     "output_type": "execute_result"
    }
   ],
   "source": [
    "test_dataset"
   ]
  },
  {
   "cell_type": "code",
   "execution_count": 101,
   "metadata": {},
   "outputs": [],
   "source": [
    "train_dataset['band_1'] = train_dataset['band_1'].apply(lambda x: np.array(x).reshape(75, 75))\n",
    "train_dataset['band_2'] = train_dataset['band_2'].apply(lambda x: np.array(x).reshape(75, 75))\n",
    "test_dataset['band_1'] = test_dataset['band_1'].apply(lambda x: np.array(x).reshape(75, 75))\n",
    "test_dataset['band_2'] = test_dataset['band_2'].apply(lambda x: np.array(x).reshape(75, 75))\n",
    "\n",
    "train_dataset['inc_angle'] = pd.to_numeric(train_dataset['inc_angle'], errors='coerce')\n",
    "test_dataset['inc_angle'] = pd.to_numeric(test_dataset['inc_angle'], errors='coerce')\n",
    "\n",
    "train = train_dataset.sample(frac=0.8, random_state=42, axis=0)\n",
    "val = train_dataset[~train_dataset.isin(train)].dropna()"
   ]
  },
  {
   "cell_type": "code",
   "execution_count": 102,
   "metadata": {},
   "outputs": [
    {
     "data": {
      "text/plain": [
       "<matplotlib.image.AxesImage at 0x26caea793c8>"
      ]
     },
     "execution_count": 102,
     "metadata": {},
     "output_type": "execute_result"
    },
    {
     "data": {
      "image/png": "[encoded data removed]",
      "text/plain": [
       "<Figure size 432x288 with 1 Axes>"
      ]
     },
     "metadata": {
      "needs_background": "light"
     },
     "output_type": "display_data"
    }
   ],
   "source": [
    "plt.imshow(train_dataset['band_1'].iloc[100]) #只要圖片大小對了就讀的出來\n",
    "# .iloc[100]跟[100]能達到一樣效果 "
   ]
  },
  {
   "cell_type": "code",
   "execution_count": 103,
   "metadata": {},
   "outputs": [
    {
     "data": {
      "text/plain": [
       "5625"
      ]
     },
     "execution_count": 103,
     "metadata": {},
     "output_type": "execute_result"
    }
   ],
   "source": [
    "len(train_dataset['band_1'].iloc[100].ravel())"
   ]
  },
  {
   "cell_type": "code",
   "execution_count": 104,
   "metadata": {},
   "outputs": [
    {
     "data": {
      "text/plain": [
       "(array([  1.,   0.,   0.,   0.,   0.,   0.,   0.,   0.,   0.,   0.,   0.,\n",
       "          0.,   1.,   0.,   2.,   0.,   4.,   0.,   4.,   0.,   8.,   7.,\n",
       "          2.,  14.,   0.,  19.,   0.,  17.,  20.,   0.,  21.,  22.,   0.,\n",
       "         24.,  38.,   0.,  34.,  45.,  52.,   0.,  45.,  72.,  74.,  80.,\n",
       "          0.,  79.,  81.,  83., 105.,  90.,  94., 129., 104., 103., 106.,\n",
       "        119., 152., 129., 126., 112., 112., 123., 113., 265., 106., 105.,\n",
       "         98., 228.,  88., 103., 220., 102.,  77., 169.,  70., 144.,  62.,\n",
       "        116.,  43.,  87.,  91.,  32.,  72.,  55.,  32.,  48.,  39.,  38.,\n",
       "         36.,  25.,  31.,  19.,  17.,  17.,  16.,  15.,  17.,   9.,  19.,\n",
       "          9.,   7.,   7.,   4.,   8.,   3.,   9.,   6.,   5.,   9.,   4.,\n",
       "          2.,   2.,   5.,   5.,   5.,   4.,   3.,   3.,   2.,   2.,   2.,\n",
       "          7.,   0.,   5.,   3.,   7.,   2.,   0.,   1.,   1.,   1.,   0.,\n",
       "          0.,   0.,   4.,   1.,   1.,   0.,   1.,   0.,   2.,   1.,   4.,\n",
       "          0.,   2.,   1.,   3.,   3.,   0.,   0.,   1.,   2.,   0.,   2.,\n",
       "          3.,   0.,   2.,   1.,   3.,   2.,   0.,   2.,   1.,   4.,   0.,\n",
       "          1.,   3.,   2.,   0.,   3.,   2.,   2.,   1.,   1.,   2.,   1.,\n",
       "          0.,   0.,   3.,   1.,   0.,   3.,   1.,   0.,   1.,   3.,   0.,\n",
       "          1.,   3.,   1.,   1.,   2.,   1.,   2.,   4.,   2.,   6.,   1.,\n",
       "          4.,   5.,   2.,   2.,   3.,   4.,   4.,   4.,   1.,   7.,   1.,\n",
       "          1.,   1.,   4.,   2.,   5.,   2.,   1.,   1.,   2.,   4.,   2.,\n",
       "          2.,   7.,   3.,   5.,   3.,   4.,   3.,   4.,   0.,   1.,   1.,\n",
       "          3.,   0.,   3.,   2.,   0.,   2.,   0.,   2.,   2.,   0.,   1.,\n",
       "          2.,   0.,   0.,   1.,   0.,   0.,   0.,   0.,   1.,   0.,   0.,\n",
       "          0.,   0.,   1.]),\n",
       " array([-2.93002320e+01, -2.91400560e+01, -2.89798800e+01, -2.88197041e+01,\n",
       "        -2.86595281e+01, -2.84993521e+01, -2.83391761e+01, -2.81790001e+01,\n",
       "        -2.80188242e+01, -2.78586482e+01, -2.76984722e+01, -2.75382962e+01,\n",
       "        -2.73781202e+01, -2.72179443e+01, -2.70577683e+01, -2.68975923e+01,\n",
       "        -2.67374163e+01, -2.65772403e+01, -2.64170644e+01, -2.62568884e+01,\n",
       "        -2.60967124e+01, -2.59365364e+01, -2.57763604e+01, -2.56161844e+01,\n",
       "        -2.54560085e+01, -2.52958325e+01, -2.51356565e+01, -2.49754805e+01,\n",
       "        -2.48153045e+01, -2.46551286e+01, -2.44949526e+01, -2.43347766e+01,\n",
       "        -2.41746006e+01, -2.40144246e+01, -2.38542487e+01, -2.36940727e+01,\n",
       "        -2.35338967e+01, -2.33737207e+01, -2.32135447e+01, -2.30533688e+01,\n",
       "        -2.28931928e+01, -2.27330168e+01, -2.25728408e+01, -2.24126648e+01,\n",
       "        -2.22524889e+01, -2.20923129e+01, -2.19321369e+01, -2.17719609e+01,\n",
       "        -2.16117849e+01, -2.14516090e+01, -2.12914330e+01, -2.11312570e+01,\n",
       "        -2.09710810e+01, -2.08109050e+01, -2.06507291e+01, -2.04905531e+01,\n",
       "        -2.03303771e+01, -2.01702011e+01, -2.00100251e+01, -1.98498492e+01,\n",
       "        -1.96896732e+01, -1.95294972e+01, -1.93693212e+01, -1.92091452e+01,\n",
       "        -1.90489692e+01, -1.88887933e+01, -1.87286173e+01, -1.85684413e+01,\n",
       "        -1.84082653e+01, -1.82480893e+01, -1.80879134e+01, -1.79277374e+01,\n",
       "        -1.77675614e+01, -1.76073854e+01, -1.74472094e+01, -1.72870335e+01,\n",
       "        -1.71268575e+01, -1.69666815e+01, -1.68065055e+01, -1.66463295e+01,\n",
       "        -1.64861536e+01, -1.63259776e+01, -1.61658016e+01, -1.60056256e+01,\n",
       "        -1.58454496e+01, -1.56852737e+01, -1.55250977e+01, -1.53649217e+01,\n",
       "        -1.52047457e+01, -1.50445697e+01, -1.48843938e+01, -1.47242178e+01,\n",
       "        -1.45640418e+01, -1.44038658e+01, -1.42436898e+01, -1.40835139e+01,\n",
       "        -1.39233379e+01, -1.37631619e+01, -1.36029859e+01, -1.34428099e+01,\n",
       "        -1.32826340e+01, -1.31224580e+01, -1.29622820e+01, -1.28021060e+01,\n",
       "        -1.26419300e+01, -1.24817541e+01, -1.23215781e+01, -1.21614021e+01,\n",
       "        -1.20012261e+01, -1.18410501e+01, -1.16808741e+01, -1.15206982e+01,\n",
       "        -1.13605222e+01, -1.12003462e+01, -1.10401702e+01, -1.08799942e+01,\n",
       "        -1.07198183e+01, -1.05596423e+01, -1.03994663e+01, -1.02392903e+01,\n",
       "        -1.00791143e+01, -9.91893836e+00, -9.75876238e+00, -9.59858640e+00,\n",
       "        -9.43841042e+00, -9.27823444e+00, -9.11805846e+00, -8.95788248e+00,\n",
       "        -8.79770650e+00, -8.63753052e+00, -8.47735454e+00, -8.31717856e+00,\n",
       "        -8.15700258e+00, -7.99682660e+00, -7.83665062e+00, -7.67647464e+00,\n",
       "        -7.51629866e+00, -7.35612268e+00, -7.19594670e+00, -7.03577071e+00,\n",
       "        -6.87559473e+00, -6.71541875e+00, -6.55524277e+00, -6.39506679e+00,\n",
       "        -6.23489081e+00, -6.07471483e+00, -5.91453885e+00, -5.75436287e+00,\n",
       "        -5.59418689e+00, -5.43401091e+00, -5.27383493e+00, -5.11365895e+00,\n",
       "        -4.95348297e+00, -4.79330699e+00, -4.63313101e+00, -4.47295503e+00,\n",
       "        -4.31277905e+00, -4.15260307e+00, -3.99242709e+00, -3.83225111e+00,\n",
       "        -3.67207512e+00, -3.51189914e+00, -3.35172316e+00, -3.19154718e+00,\n",
       "        -3.03137120e+00, -2.87119522e+00, -2.71101924e+00, -2.55084326e+00,\n",
       "        -2.39066728e+00, -2.23049130e+00, -2.07031532e+00, -1.91013934e+00,\n",
       "        -1.74996336e+00, -1.58978738e+00, -1.42961140e+00, -1.26943542e+00,\n",
       "        -1.10925944e+00, -9.49083457e-01, -7.88907477e-01, -6.28731496e-01,\n",
       "        -4.68555516e-01, -3.08379535e-01, -1.48203555e-01,  1.19724258e-02,\n",
       "         1.72148406e-01,  3.32324387e-01,  4.92500367e-01,  6.52676348e-01,\n",
       "         8.12852328e-01,  9.73028309e-01,  1.13320429e+00,  1.29338027e+00,\n",
       "         1.45355625e+00,  1.61373223e+00,  1.77390821e+00,  1.93408419e+00,\n",
       "         2.09426017e+00,  2.25443615e+00,  2.41461213e+00,  2.57478811e+00,\n",
       "         2.73496409e+00,  2.89514007e+00,  3.05531605e+00,  3.21549204e+00,\n",
       "         3.37566802e+00,  3.53584400e+00,  3.69601998e+00,  3.85619596e+00,\n",
       "         4.01637194e+00,  4.17654792e+00,  4.33672390e+00,  4.49689988e+00,\n",
       "         4.65707586e+00,  4.81725184e+00,  4.97742782e+00,  5.13760380e+00,\n",
       "         5.29777978e+00,  5.45795576e+00,  5.61813174e+00,  5.77830772e+00,\n",
       "         5.93848370e+00,  6.09865968e+00,  6.25883566e+00,  6.41901164e+00,\n",
       "         6.57918763e+00,  6.73936361e+00,  6.89953959e+00,  7.05971557e+00,\n",
       "         7.21989155e+00,  7.38006753e+00,  7.54024351e+00,  7.70041949e+00,\n",
       "         7.86059547e+00,  8.02077145e+00,  8.18094743e+00,  8.34112341e+00,\n",
       "         8.50129939e+00,  8.66147537e+00,  8.82165135e+00,  8.98182733e+00,\n",
       "         9.14200331e+00,  9.30217929e+00,  9.46235527e+00,  9.62253125e+00,\n",
       "         9.78270723e+00,  9.94288321e+00,  1.01030592e+01,  1.02632352e+01,\n",
       "         1.04234112e+01,  1.05835871e+01,  1.07437631e+01,  1.09039391e+01,\n",
       "         1.10641151e+01,  1.12242911e+01,  1.13844670e+01,  1.15446430e+01,\n",
       "         1.17048190e+01]),\n",
       " <a list of 256 Patch objects>)"
      ]
     },
     "execution_count": 104,
     "metadata": {},
     "output_type": "execute_result"
    },
    {
     "data": {
      "image/png": "[encoded data removed]",
      "text/plain": [
       "<Figure size 432x288 with 1 Axes>"
      ]
     },
     "metadata": {
      "needs_background": "light"
     },
     "output_type": "display_data"
    }
   ],
   "source": [
    "plt.hist(train_dataset['band_1'].iloc[100].ravel(), bins=256)\n",
    "#.ravel()把原本的array攤平\n"
   ]
  },
  {
   "cell_type": "code",
   "execution_count": 105,
   "metadata": {},
   "outputs": [
    {
     "data": {
      "text/plain": [
       "<matplotlib.axes._subplots.AxesSubplot at 0x26a7c195708>"
      ]
     },
     "execution_count": 105,
     "metadata": {},
     "output_type": "execute_result"
    },
    {
     "data": {
      "image/png": "[encoded data removed]",
      "text/plain": [
       "<Figure size 432x288 with 1 Axes>"
      ]
     },
     "metadata": {
      "needs_background": "light"
     },
     "output_type": "display_data"
    }
   ],
   "source": [
    "sns.countplot(x=\"is_iceberg\",data=train)"
   ]
  },
  {
   "cell_type": "code",
   "execution_count": 106,
   "metadata": {},
   "outputs": [],
   "source": [
    "# 看看圖片\n",
    "def plot_sample(df, idx):\n",
    "    c = ( 'Not Hotdog', 'Hotdog')\n",
    "    f, ((ax1, ax2), (ax3, ax4)) = plt.subplots(2, 2)\n",
    "    ax1.imshow(df['band_1'].iloc[idx])\n",
    "    ax2.imshow(df['band_2'].iloc[idx])\n",
    "    ax3.hist(df['band_1'].iloc[idx].ravel(), bins=256, fc='k', ec='k')\n",
    "    ax4.hist(df['band_2'].iloc[idx].ravel(), bins=256, fc='k', ec='k')\n",
    "    f.set_figheight(10)\n",
    "    f.set_figwidth(10)\n",
    "    plt.suptitle(c[df['is_iceberg'].iloc[idx]])\n",
    "    plt.show()"
   ]
  },
  {
   "cell_type": "code",
   "execution_count": 107,
   "metadata": {},
   "outputs": [
    {
     "data": {
      "text/plain": [
       "<function _VariableFunctionsClass.tensor>"
      ]
     },
     "execution_count": 107,
     "metadata": {},
     "output_type": "execute_result"
    }
   ],
   "source": [
    " torch.tensor"
   ]
  },
  {
   "cell_type": "code",
   "execution_count": 108,
   "metadata": {},
   "outputs": [
    {
     "data": {
      "image/png": "[encoded data removed]",
      "text/plain": [
       "<Figure size 720x720 with 4 Axes>"
      ]
     },
     "metadata": {
      "needs_background": "light"
     },
     "output_type": "display_data"
    }
   ],
   "source": [
    "plot_sample(train, 700)\n"
   ]
  },
  {
   "cell_type": "code",
   "execution_count": 109,
   "metadata": {},
   "outputs": [],
   "source": [
    "band_1_tr = np.concatenate([im for im in train['band_1']]).reshape(-1, 75, 75)\n",
    "band_2_tr = np.concatenate([im for im in train['band_2']]).reshape(-1, 75, 75)\n",
    "full_img_tr = np.stack([band_1_tr, band_2_tr], axis=1)\n",
    "\n",
    "band_1_val = np.concatenate([im for im in val['band_1']]).reshape(-1, 75, 75)\n",
    "band_2_val = np.concatenate([im for im in val['band_2']]).reshape(-1, 75, 75)\n",
    "full_img_val = np.stack([band_1_val, band_2_val], axis=1)\n",
    "\n",
    "band_1_test = np.concatenate([im for im in test_dataset['band_1']]).reshape(-1, 75, 75)\n",
    "band_2_test = np.concatenate([im for im in test_dataset['band_2']]).reshape(-1, 75, 75)\n",
    "full_img_test = np.stack([band_1_test, band_2_test], axis=1)"
   ]
  },
  {
   "cell_type": "code",
   "execution_count": 110,
   "metadata": {},
   "outputs": [],
   "source": [
    "train_imgs = torch.from_numpy(full_img_tr).float()\n",
    "train_targets = torch.from_numpy(train['is_iceberg'].values).long()\n",
    "train_dataset = TensorDataset(train_imgs, train_targets)\n",
    "\n",
    "val_imgs = torch.from_numpy(full_img_val).float()\n",
    "val_targets = torch.from_numpy(val['is_iceberg'].values).long()\n",
    "val_dataset = TensorDataset(val_imgs, val_targets)\n",
    "\n",
    "\n",
    "test_imgs  = torch.from_numpy(full_img_test).float()"
   ]
  },
  {
   "cell_type": "code",
   "execution_count": 111,
   "metadata": {},
   "outputs": [
    {
     "data": {
      "text/plain": [
       "(tensor([[[-22.6230, -19.0423, -18.2574,  ..., -18.4807, -16.2613, -17.4456],\n",
       "          [-20.8639, -21.9415, -18.5852,  ..., -17.6429, -15.8457, -15.3719],\n",
       "          [-19.1604, -18.8107, -19.1606,  ..., -19.4081, -15.6848, -14.5650],\n",
       "          ...,\n",
       "          [-16.6924, -19.1614, -21.1594,  ..., -17.1585, -20.1761, -20.8714],\n",
       "          [-19.0432, -19.1615, -19.2814,  ..., -18.8180, -20.3107, -22.1143],\n",
       "          [-17.0582, -17.9424, -18.4755,  ..., -17.1585, -21.3168, -21.9489]],\n",
       " \n",
       "         [[-23.3626, -22.6231, -23.9621,  ..., -20.5854, -21.3158, -20.5856],\n",
       "          [-22.4475, -24.3858, -24.8314,  ..., -20.8702, -21.1648, -19.4083],\n",
       "          [-24.3857, -25.5456, -24.1714,  ..., -21.9477, -21.0163, -21.1649],\n",
       "          ...,\n",
       "          [-24.8321, -23.9629, -24.1723,  ..., -23.5652, -23.9693, -23.1793],\n",
       "          [-23.1727, -25.7984, -26.3251,  ..., -21.3167, -21.3168, -20.5866],\n",
       "          [-23.7585, -23.5589, -22.9861,  ..., -23.7649, -25.3083, -23.9694]]]),\n",
       " tensor(1))"
      ]
     },
     "execution_count": 111,
     "metadata": {},
     "output_type": "execute_result"
    }
   ],
   "source": [
    "train_dataset[0]\n"
   ]
  },
  {
   "cell_type": "code",
   "execution_count": 112,
   "metadata": {},
   "outputs": [],
   "source": [
    "class Net(nn.Module):\n",
    "    def __init__(self):\n",
    "        super(Net, self).__init__()\n",
    "        self.batch = nn.BatchNorm2d(2)\n",
    "        self.conv1 = nn.Conv2d(2, 32, kernel_size=3, padding=1)\n",
    "        self.pool = nn.MaxPool2d(2, 2)\n",
    "        self.conv2 = nn.Conv2d(32, 64, kernel_size=3, padding=1)\n",
    "        self.fc1 = nn.Linear(64 * 18 * 18, 120)\n",
    "        self.fc2 = nn.Linear(120, 84)\n",
    "        self.fc3 = nn.Linear(84, 2)\n",
    "\n",
    "    def forward(self, x):\n",
    "        x = self.batch(x)\n",
    "        x = self.pool(F.relu(self.conv1(x)))\n",
    "        x = self.pool(F.relu(self.conv2(x)))\n",
    "        x = x.view(x.size(0), -1)\n",
    "        x = F.relu(self.fc1(x))\n",
    "        x = F.relu(self.fc2(x))\n",
    "        x = self.fc3(x)\n",
    "        return x"
   ]
  },
  {
   "cell_type": "code",
   "execution_count": 113,
   "metadata": {},
   "outputs": [],
   "source": [
    "net = Net()\n"
   ]
  },
  {
   "cell_type": "code",
   "execution_count": 114,
   "metadata": {},
   "outputs": [],
   "source": [
    "epochs = 2\n",
    "criterion = nn.CrossEntropyLoss()\n",
    "optimizer = Adam(net.parameters())"
   ]
  },
  {
   "cell_type": "code",
   "execution_count": 121,
   "metadata": {},
   "outputs": [],
   "source": [
    "# utils \n",
    "class AverageMeter(object):\n",
    "    \"\"\"Computes and stores the average and current value\"\"\"\n",
    "\n",
    "    def __init__(self, window_size=None):\n",
    "        self.length = 0\n",
    "        self.val = 0\n",
    "        self.avg = 0\n",
    "        self.sum = 0\n",
    "        self.count = 0\n",
    "        self.window_size = window_size\n",
    "\n",
    "    def reset(self):\n",
    "        self.length = 0\n",
    "        self.val = 0\n",
    "        self.avg = 0\n",
    "        self.sum = 0\n",
    "        self.count = 0\n",
    "\n",
    "    def update(self, val, n=1):\n",
    "        if self.window_size and (self.count >= self.window_size):\n",
    "            self.reset()\n",
    "        self.val = val\n",
    "        self.sum += val * n\n",
    "        self.count += n\n",
    "        self.avg = self.sum / self.count\n",
    "        \n",
    "def accuracy(y_true, y_pred):\n",
    "    y_true = y_true.float()\n",
    "    _, y_pred = torch.max(y_pred, dim=-1)\n",
    "    return (y_pred.float() == y_true).float().mean()\n",
    "    \n",
    "def fit(train, val, epochs, batch_size):\n",
    "    print('train on {} images validate on {} images'.format(len(train), len(val)))\n",
    "    net.train()\n",
    "    train_loader = DataLoader(train, batch_size=batch_size, shuffle=True)\n",
    "    val_loader = DataLoader(val, batch_size=batch_size, shuffle=False)\n",
    "    for epoch in tqdm_notebook(range(epochs), total=epochs):\n",
    "        running_loss = AverageMeter()\n",
    "        running_accuracy = AverageMeter()\n",
    "        val_loss_meter = AverageMeter()\n",
    "        val_acc_meter = AverageMeter()\n",
    "        pbar = tqdm_notebook(train_loader, total=len(train_loader))\n",
    "        for data, target in pbar:\n",
    "            data, target = Variable(data), Variable(target)\n",
    "            output = net(data)\n",
    "            loss = criterion(output, target)\n",
    "            acc = accuracy(target.data, output.data)\n",
    "            running_loss.update(loss.data[0])\n",
    "            running_accuracy.update(acc)\n",
    "            pbar.set_description(\"[ loss: {:.4f} | acc: {:.4f} ] \".format(\n",
    "                running_loss.avg, running_accuracy.avg))\n",
    "            optimizer.zero_grad()\n",
    "            loss.backward()\n",
    "            optimizer.step()\n",
    "        print(\"[ loss: {:.4f} | acc: {:.4f} ] \".format(running_loss.avg, running_accuracy.avg))\n",
    "        for val_data, val_target in val_loader:\n",
    "            val_data, val_target = Variable(val_data), Variable(val_target)\n",
    "            output = net(val_data)\n",
    "            val_loss = criterion(output, val_target)\n",
    "            val_acc = accuracy(val_target.data, output.data)\n",
    "            val_loss_meter.update(val_loss.data[0])\n",
    "            val_acc_meter.update(val_acc)\n",
    "        pbar.set_description(\"[ loss: {:.4f} | acc: {:.4f} | vloss: {:.4f} | vacc: {:.4f} ] \".format(\n",
    "        running_loss.avg, running_accuracy.avg, val_loss_meter.avg, val_acc_meter.avg))\n",
    "        print(\"[ loss: {:.4f} | acc: {:.4f} | vloss: {:.4f} | vacc: {:.4f} ] \".format(\n",
    "        running_loss.avg, running_accuracy.avg, val_loss_meter.avg, val_acc_meter.avg))"
   ]
  },
  {
   "cell_type": "code",
   "execution_count": 123,
   "metadata": {},
   "outputs": [
    {
     "name": "stdout",
     "output_type": "stream",
     "text": [
      "train on 1283 images validate on 296 images\n"
     ]
    },
    {
     "name": "stderr",
     "output_type": "stream",
     "text": [
      "C:\\Users\\jerem\\anaconda3\\lib\\site-packages\\ipykernel_launcher.py:38: TqdmDeprecationWarning: This function will be removed in tqdm==5.0.0\n",
      "Please use `tqdm.notebook.tqdm` instead of `tqdm.tqdm_notebook`\n"
     ]
    },
    {
     "data": {
      "application/vnd.jupyter.widget-view+json": {
       "model_id": "4c0101fe19cb4b1dbcd950cbbb00306c",
       "version_major": 2,
       "version_minor": 0
      },
      "text/plain": [
       "HBox(children=(FloatProgress(value=0.0, max=3.0), HTML(value='')))"
      ]
     },
     "metadata": {},
     "output_type": "display_data"
    },
    {
     "name": "stderr",
     "output_type": "stream",
     "text": [
      "C:\\Users\\jerem\\anaconda3\\lib\\site-packages\\ipykernel_launcher.py:43: TqdmDeprecationWarning: This function will be removed in tqdm==5.0.0\n",
      "Please use `tqdm.notebook.tqdm` instead of `tqdm.tqdm_notebook`\n"
     ]
    },
    {
     "data": {
      "application/vnd.jupyter.widget-view+json": {
       "model_id": "32e82ee102cf43558579b3e5ae79497f",
       "version_major": 2,
       "version_minor": 0
      },
      "text/plain": [
       "HBox(children=(FloatProgress(value=0.0, max=41.0), HTML(value='')))"
      ]
     },
     "metadata": {},
     "output_type": "display_data"
    },
    {
     "ename": "IndexError",
     "evalue": "invalid index of a 0-dim tensor. Use `tensor.item()` in Python or `tensor.item<T>()` in C++ to convert a 0-dim tensor to a number",
     "output_type": "error",
     "traceback": [
      "\u001b[1;31m---------------------------------------------------------------------------\u001b[0m",
      "\u001b[1;31mIndexError\u001b[0m                                Traceback (most recent call last)",
      "\u001b[1;32m<ipython-input-123-f5e073959ea2>\u001b[0m in \u001b[0;36m<module>\u001b[1;34m\u001b[0m\n\u001b[1;32m----> 1\u001b[1;33m \u001b[0mfit\u001b[0m\u001b[1;33m(\u001b[0m\u001b[0mtrain_dataset\u001b[0m\u001b[1;33m,\u001b[0m \u001b[0mval_dataset\u001b[0m\u001b[1;33m,\u001b[0m \u001b[1;36m3\u001b[0m\u001b[1;33m,\u001b[0m \u001b[1;36m32\u001b[0m\u001b[1;33m)\u001b[0m\u001b[1;33m\u001b[0m\u001b[1;33m\u001b[0m\u001b[0m\n\u001b[0m",
      "\u001b[1;32m<ipython-input-121-867aeabfdc12>\u001b[0m in \u001b[0;36mfit\u001b[1;34m(train, val, epochs, batch_size)\u001b[0m\n\u001b[0;32m     47\u001b[0m             \u001b[0mloss\u001b[0m \u001b[1;33m=\u001b[0m \u001b[0mcriterion\u001b[0m\u001b[1;33m(\u001b[0m\u001b[0moutput\u001b[0m\u001b[1;33m,\u001b[0m \u001b[0mtarget\u001b[0m\u001b[1;33m)\u001b[0m\u001b[1;33m\u001b[0m\u001b[1;33m\u001b[0m\u001b[0m\n\u001b[0;32m     48\u001b[0m             \u001b[0macc\u001b[0m \u001b[1;33m=\u001b[0m \u001b[0maccuracy\u001b[0m\u001b[1;33m(\u001b[0m\u001b[0mtarget\u001b[0m\u001b[1;33m.\u001b[0m\u001b[0mdata\u001b[0m\u001b[1;33m,\u001b[0m \u001b[0moutput\u001b[0m\u001b[1;33m.\u001b[0m\u001b[0mdata\u001b[0m\u001b[1;33m)\u001b[0m\u001b[1;33m\u001b[0m\u001b[1;33m\u001b[0m\u001b[0m\n\u001b[1;32m---> 49\u001b[1;33m             \u001b[0mrunning_loss\u001b[0m\u001b[1;33m.\u001b[0m\u001b[0mupdate\u001b[0m\u001b[1;33m(\u001b[0m\u001b[0mloss\u001b[0m\u001b[1;33m.\u001b[0m\u001b[0mdata\u001b[0m\u001b[1;33m[\u001b[0m\u001b[1;36m0\u001b[0m\u001b[1;33m]\u001b[0m\u001b[1;33m)\u001b[0m\u001b[1;33m\u001b[0m\u001b[1;33m\u001b[0m\u001b[0m\n\u001b[0m\u001b[0;32m     50\u001b[0m             \u001b[0mrunning_accuracy\u001b[0m\u001b[1;33m.\u001b[0m\u001b[0mupdate\u001b[0m\u001b[1;33m(\u001b[0m\u001b[0macc\u001b[0m\u001b[1;33m)\u001b[0m\u001b[1;33m\u001b[0m\u001b[1;33m\u001b[0m\u001b[0m\n\u001b[0;32m     51\u001b[0m             pbar.set_description(\"[ loss: {:.4f} | acc: {:.4f} ] \".format(\n",
      "\u001b[1;31mIndexError\u001b[0m: invalid index of a 0-dim tensor. Use `tensor.item()` in Python or `tensor.item<T>()` in C++ to convert a 0-dim tensor to a number"
     ]
    }
   ],
   "source": [
    "fit(train_dataset, val_dataset, 3, 32)"
   ]
  },
  {
   "cell_type": "code",
   "execution_count": 124,
   "metadata": {},
   "outputs": [
    {
     "name": "stdout",
     "output_type": "stream",
     "text": [
      "train on 1283 images validate on 296 images\n"
     ]
    },
    {
     "name": "stderr",
     "output_type": "stream",
     "text": [
      "C:\\Users\\jerem\\anaconda3\\lib\\site-packages\\ipykernel_launcher.py:38: TqdmDeprecationWarning: This function will be removed in tqdm==5.0.0\n",
      "Please use `tqdm.notebook.tqdm` instead of `tqdm.tqdm_notebook`\n"
     ]
    },
    {
     "data": {
      "application/vnd.jupyter.widget-view+json": {
       "model_id": "a79bae6993bb45daac65f60a39cdb78a",
       "version_major": 2,
       "version_minor": 0
      },
      "text/plain": [
       "HBox(children=(FloatProgress(value=0.0, max=3.0), HTML(value='')))"
      ]
     },
     "metadata": {},
     "output_type": "display_data"
    },
    {
     "name": "stderr",
     "output_type": "stream",
     "text": [
      "C:\\Users\\jerem\\anaconda3\\lib\\site-packages\\ipykernel_launcher.py:43: TqdmDeprecationWarning: This function will be removed in tqdm==5.0.0\n",
      "Please use `tqdm.notebook.tqdm` instead of `tqdm.tqdm_notebook`\n"
     ]
    },
    {
     "data": {
      "application/vnd.jupyter.widget-view+json": {
       "model_id": "cfa8de57252e439d8c5f424f207f1b6c",
       "version_major": 2,
       "version_minor": 0
      },
      "text/plain": [
       "HBox(children=(FloatProgress(value=0.0, max=41.0), HTML(value='')))"
      ]
     },
     "metadata": {},
     "output_type": "display_data"
    },
    {
     "ename": "IndexError",
     "evalue": "invalid index of a 0-dim tensor. Use `tensor.item()` in Python or `tensor.item<T>()` in C++ to convert a 0-dim tensor to a number",
     "output_type": "error",
     "traceback": [
      "\u001b[1;31m---------------------------------------------------------------------------\u001b[0m",
      "\u001b[1;31mIndexError\u001b[0m                                Traceback (most recent call last)",
      "\u001b[1;32m<ipython-input-124-f5e073959ea2>\u001b[0m in \u001b[0;36m<module>\u001b[1;34m\u001b[0m\n\u001b[1;32m----> 1\u001b[1;33m \u001b[0mfit\u001b[0m\u001b[1;33m(\u001b[0m\u001b[0mtrain_dataset\u001b[0m\u001b[1;33m,\u001b[0m \u001b[0mval_dataset\u001b[0m\u001b[1;33m,\u001b[0m \u001b[1;36m3\u001b[0m\u001b[1;33m,\u001b[0m \u001b[1;36m32\u001b[0m\u001b[1;33m)\u001b[0m\u001b[1;33m\u001b[0m\u001b[1;33m\u001b[0m\u001b[0m\n\u001b[0m",
      "\u001b[1;32m<ipython-input-121-867aeabfdc12>\u001b[0m in \u001b[0;36mfit\u001b[1;34m(train, val, epochs, batch_size)\u001b[0m\n\u001b[0;32m     47\u001b[0m             \u001b[0mloss\u001b[0m \u001b[1;33m=\u001b[0m \u001b[0mcriterion\u001b[0m\u001b[1;33m(\u001b[0m\u001b[0moutput\u001b[0m\u001b[1;33m,\u001b[0m \u001b[0mtarget\u001b[0m\u001b[1;33m)\u001b[0m\u001b[1;33m\u001b[0m\u001b[1;33m\u001b[0m\u001b[0m\n\u001b[0;32m     48\u001b[0m             \u001b[0macc\u001b[0m \u001b[1;33m=\u001b[0m \u001b[0maccuracy\u001b[0m\u001b[1;33m(\u001b[0m\u001b[0mtarget\u001b[0m\u001b[1;33m.\u001b[0m\u001b[0mdata\u001b[0m\u001b[1;33m,\u001b[0m \u001b[0moutput\u001b[0m\u001b[1;33m.\u001b[0m\u001b[0mdata\u001b[0m\u001b[1;33m)\u001b[0m\u001b[1;33m\u001b[0m\u001b[1;33m\u001b[0m\u001b[0m\n\u001b[1;32m---> 49\u001b[1;33m             \u001b[0mrunning_loss\u001b[0m\u001b[1;33m.\u001b[0m\u001b[0mupdate\u001b[0m\u001b[1;33m(\u001b[0m\u001b[0mloss\u001b[0m\u001b[1;33m.\u001b[0m\u001b[0mdata\u001b[0m\u001b[1;33m[\u001b[0m\u001b[1;36m0\u001b[0m\u001b[1;33m]\u001b[0m\u001b[1;33m)\u001b[0m\u001b[1;33m\u001b[0m\u001b[1;33m\u001b[0m\u001b[0m\n\u001b[0m\u001b[0;32m     50\u001b[0m             \u001b[0mrunning_accuracy\u001b[0m\u001b[1;33m.\u001b[0m\u001b[0mupdate\u001b[0m\u001b[1;33m(\u001b[0m\u001b[0macc\u001b[0m\u001b[1;33m)\u001b[0m\u001b[1;33m\u001b[0m\u001b[1;33m\u001b[0m\u001b[0m\n\u001b[0;32m     51\u001b[0m             pbar.set_description(\"[ loss: {:.4f} | acc: {:.4f} ] \".format(\n",
      "\u001b[1;31mIndexError\u001b[0m: invalid index of a 0-dim tensor. Use `tensor.item()` in Python or `tensor.item<T>()` in C++ to convert a 0-dim tensor to a number"
     ]
    }
   ],
   "source": [
    "fit(train_dataset, val_dataset, 3, 32)\n"
   ]
  },
  {
   "cell_type": "code",
   "execution_count": null,
   "metadata": {},
   "outputs": [],
   "source": []
  },
  {
   "cell_type": "code",
   "execution_count": null,
   "metadata": {},
   "outputs": [],
   "source": []
  },
  {
   "cell_type": "code",
   "execution_count": null,
   "metadata": {},
   "outputs": [],
   "source": []
  },
  {
   "cell_type": "code",
   "execution_count": null,
   "metadata": {},
   "outputs": [],
   "source": []
  },
  {
   "cell_type": "code",
   "execution_count": null,
   "metadata": {},
   "outputs": [],
   "source": []
  },
  {
   "cell_type": "code",
   "execution_count": null,
   "metadata": {},
   "outputs": [],
   "source": []
  },
  {
   "cell_type": "code",
   "execution_count": null,
   "metadata": {},
   "outputs": [],
   "source": []
  },
  {
   "cell_type": "code",
   "execution_count": null,
   "metadata": {},
   "outputs": [],
   "source": []
  },
  {
   "cell_type": "code",
   "execution_count": null,
   "metadata": {},
   "outputs": [],
   "source": []
  },
  {
   "cell_type": "code",
   "execution_count": null,
   "metadata": {},
   "outputs": [],
   "source": []
  }
 ],
 "metadata": {
  "kernelspec": {
   "display_name": "Python 3",
   "language": "python",
   "name": "python3"
  },
  "language_info": {
   "codemirror_mode": {
    "name": "ipython",
    "version": 3
   },
   "file_extension": ".py",
   "mimetype": "text/x-python",
   "name": "python",
   "nbconvert_exporter": "python",
   "pygments_lexer": "ipython3",
   "version": "3.7.6"
  }
 },
 "nbformat": 4,
 "nbformat_minor": 4
}
