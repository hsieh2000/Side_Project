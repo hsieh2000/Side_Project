{
 "cells": [
  {
   "cell_type": "markdown",
   "metadata": {},
   "source": [
    "# class用法"
   ]
  },
  {
   "cell_type": "code",
   "execution_count": 5,
   "metadata": {},
   "outputs": [],
   "source": [
    "class Animal():\n",
    "    def __init__(self, name, food): #第一個參數必須為self，self 表示你未來的instance variable 名稱\n",
    "        self.name = name\n",
    "        self.food = food\n",
    "        \n",
    "    def eat(self):\n",
    "        print(\"I am \" + self.name + \", I eat \" + self.food)\n"
   ]
  },
  {
   "cell_type": "code",
   "execution_count": 6,
   "metadata": {},
   "outputs": [],
   "source": [
    "a=Animal('dog','bone')"
   ]
  },
  {
   "cell_type": "code",
   "execution_count": 7,
   "metadata": {},
   "outputs": [
    {
     "name": "stdout",
     "output_type": "stream",
     "text": [
      "I am dog, I eat bone\n"
     ]
    }
   ],
   "source": [
    "a.eat()"
   ]
  },
  {
   "cell_type": "markdown",
   "metadata": {},
   "source": [
    "# super()與class繼承用法"
   ]
  },
  {
   "cell_type": "code",
   "execution_count": 27,
   "metadata": {},
   "outputs": [
    {
     "name": "stdout",
     "output_type": "stream",
     "text": [
      "Parent\n",
      "Child\n",
      "HelloWorld from Parent\n",
      "Child bar fuction\n",
      "I'm the parent. HelloWorld\n"
     ]
    }
   ],
   "source": [
    "class FooParent(): #object僅python2強制要求輸入, 在python3如無須繼承可寫FooParent()\n",
    "    def __init__(self):\n",
    "        self.parent = 'I\\'m the parent.'\n",
    "        print ('Parent')\n",
    "    \n",
    "    def bar(self,message):\n",
    "        print (\"%s from Parent\" % message)\n",
    "\n",
    "\n",
    "class FooChild(FooParent): #FooChild繼承FooParent\n",
    "    def __init__(self):\n",
    "        super(FooChild,self).__init__()# super(FooChild,self) 首先找到 FooChild 的父类（就是 FooParent），然后初始化FooParent() \n",
    "                                        # super(FooChild,self)中的 FooChild 代表取得了Foochild所繼承的object(也就是FooParent)\n",
    "                                        #而self表示你未來的instance variable 名稱,也就是 fooChild\n",
    "        print ('Child')\n",
    "        \n",
    "    def bar(self,message):\n",
    "        super(FooChild, self).bar(message)\n",
    "        print ('Child bar fuction')\n",
    "        print (self.parent, message)\n",
    "\n",
    "\n",
    "if __name__ == '__main__': #當要從外部import .py 檔時, import 的當下就會run被import的code, 並且if __name__ == '被import的檔案名'\n",
    "    fooChild = FooChild()  #但只要加上if __name__ == '__main__'就可以防止在import時被執行, 且if __name__ == '__main__'\n",
    "    fooChild.bar('HelloWorld')"
   ]
  },
  {
   "cell_type": "code",
   "execution_count": 31,
   "metadata": {},
   "outputs": [
    {
     "name": "stdout",
     "output_type": "stream",
     "text": [
      "Parent\n",
      "Child\n",
      "jeremy from Parent\n",
      "Child bar fuction\n",
      "I'm the parent. jeremy\n"
     ]
    }
   ],
   "source": [
    "FooChild().bar('jeremy')"
   ]
  },
  {
   "cell_type": "markdown",
   "metadata": {},
   "source": [
    "# def __call__ function 應用"
   ]
  },
  {
   "cell_type": "markdown",
   "metadata": {},
   "source": [
    "一般來說需要先讓talk = a('hello'), 再用talk.say()才能去invoked(調用) talk裡面的function"
   ]
  },
  {
   "cell_type": "code",
   "execution_count": 80,
   "metadata": {},
   "outputs": [
    {
     "name": "stdout",
     "output_type": "stream",
     "text": [
      "you say : hello\n",
      "False\n",
      "<__main__.a object at 0x0000018E62239648>\n"
     ]
    },
    {
     "ename": "TypeError",
     "evalue": "'a' object is not callable",
     "output_type": "error",
     "traceback": [
      "\u001b[1;31m---------------------------------------------------------------------------\u001b[0m",
      "\u001b[1;31mTypeError\u001b[0m                                 Traceback (most recent call last)",
      "\u001b[1;32m<ipython-input-80-0d716d9097ae>\u001b[0m in \u001b[0;36m<module>\u001b[1;34m\u001b[0m\n\u001b[0;32m     11\u001b[0m     \u001b[0mprint\u001b[0m\u001b[1;33m(\u001b[0m\u001b[0mcallable\u001b[0m\u001b[1;33m(\u001b[0m\u001b[0mtalk\u001b[0m\u001b[1;33m)\u001b[0m\u001b[1;33m)\u001b[0m \u001b[1;31m#callable()是要知道這個class可不可像function一樣直接被調用\u001b[0m\u001b[1;33m\u001b[0m\u001b[1;33m\u001b[0m\u001b[0m\n\u001b[0;32m     12\u001b[0m     \u001b[0mprint\u001b[0m\u001b[1;33m(\u001b[0m\u001b[0mtalk\u001b[0m\u001b[1;33m)\u001b[0m\u001b[1;33m\u001b[0m\u001b[1;33m\u001b[0m\u001b[0m\n\u001b[1;32m---> 13\u001b[1;33m     \u001b[0mprint\u001b[0m\u001b[1;33m(\u001b[0m\u001b[0mtalk\u001b[0m\u001b[1;33m(\u001b[0m\u001b[1;33m)\u001b[0m\u001b[1;33m)\u001b[0m\u001b[1;33m\u001b[0m\u001b[1;33m\u001b[0m\u001b[0m\n\u001b[0m",
      "\u001b[1;31mTypeError\u001b[0m: 'a' object is not callable"
     ]
    }
   ],
   "source": [
    "class a():\n",
    "    def __init__(self,massage2):\n",
    "        self.massage1=massage2\n",
    "        \n",
    "    def say(self):\n",
    "        return 'you say : '+self.massage1\n",
    "\n",
    "if __name__ == \"__main__\":\n",
    "    talk = a('hello')\n",
    "    print(talk.say())\n",
    "    print(callable(talk)) #callable()是要知道這個class可不可像function一樣直接被調用\n",
    "    print(talk)\n",
    "    print(talk())"
   ]
  },
  {
   "cell_type": "markdown",
   "metadata": {},
   "source": [
    "當有了dunder call function, 就能直接像function一樣直接被調用talk裡面的function"
   ]
  },
  {
   "cell_type": "code",
   "execution_count": 75,
   "metadata": {},
   "outputs": [
    {
     "name": "stdout",
     "output_type": "stream",
     "text": [
      "hello\n",
      "hello\n",
      "True\n"
     ]
    }
   ],
   "source": [
    "class a():\n",
    "    def __init__(self,massage2):\n",
    "        self.massage1=massage2\n",
    "        \n",
    "    def say(self):\n",
    "        return self.massage1\n",
    "\n",
    "    def __call__(self):\n",
    "        return self.say()\n",
    "    \n",
    "if __name__ == \"__main__\":\n",
    "    talk = a('hello')\n",
    "    print(talk())\n",
    "    print(talk.say())\n",
    "    print(callable(talk)) #callable()是要知道這個class可不可像function一樣直接被調用"
   ]
  },
  {
   "cell_type": "markdown",
   "metadata": {},
   "source": [
    "甚至可以直接將要invoked 的function 寫入dunder call function"
   ]
  },
  {
   "cell_type": "code",
   "execution_count": 77,
   "metadata": {},
   "outputs": [
    {
     "name": "stdout",
     "output_type": "stream",
     "text": [
      "hello\n",
      "True\n"
     ]
    }
   ],
   "source": [
    "class a():\n",
    "    def __init__(self,massage2):\n",
    "        self.massage1=massage2\n",
    "        \n",
    "#     def say(self):\n",
    "#         return self.message1\n",
    "\n",
    "    def __call__(self):\n",
    "        return self.massage1\n",
    "    \n",
    "if __name__ == \"__main__\":\n",
    "    talk = a('hello')\n",
    "    print(talk())\n",
    "#     print(talk.say())\n",
    "    print(callable(talk)) #callable()是要知道這個class可不可像function一樣直接被調用"
   ]
  },
  {
   "cell_type": "code",
   "execution_count": null,
   "metadata": {},
   "outputs": [],
   "source": []
  },
  {
   "cell_type": "code",
   "execution_count": null,
   "metadata": {},
   "outputs": [],
   "source": []
  }
 ],
 "metadata": {
  "kernelspec": {
   "display_name": "Python 3",
   "language": "python",
   "name": "python3"
  },
  "language_info": {
   "codemirror_mode": {
    "name": "ipython",
    "version": 3
   },
   "file_extension": ".py",
   "mimetype": "text/x-python",
   "name": "python",
   "nbconvert_exporter": "python",
   "pygments_lexer": "ipython3",
   "version": "3.7.6"
  }
 },
 "nbformat": 4,
 "nbformat_minor": 4
}
